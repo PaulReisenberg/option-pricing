{
 "cells": [
  {
   "cell_type": "code",
   "execution_count": 1,
   "metadata": {},
   "outputs": [],
   "source": [
    "import bs_functions as bs_model\n",
    "import numpy as np\n",
    "from scipy.stats import norm\n",
    "import datetime as dt\n",
    "from datetime import datetime\n",
    "from yahoo_fin import options\n",
    "from yahoo_fin import stock_info\n",
    "import yfinance as yf\n",
    "import datetime as dt\n",
    "from datetime import datetime"
   ]
  },
  {
   "cell_type": "markdown",
   "metadata": {},
   "source": [
    "### Example: Valuation of a Microsoft call option\n",
    "\n",
    "Strike Price: 240$\n",
    "\n",
    "Expiration Date: 07/07/2023"
   ]
  },
  {
   "cell_type": "markdown",
   "metadata": {},
   "source": [
    "#### 1. Initializing parameters"
   ]
  },
  {
   "cell_type": "code",
   "execution_count": 2,
   "metadata": {},
   "outputs": [],
   "source": [
    "# Estimating Volatility by using 60-Day Historical Volatility\n",
    "\n",
    "end = dt.datetime(2023,6,2) #dt.datetime.now()\n",
    "start = end-dt.timedelta(days=60)\n",
    "\n",
    "df = stock_info.get_data(\"msft\", start, end)\n",
    "\n",
    "simple_returns = df.close.pct_change().dropna()\n",
    "log_returns = np.log(simple_returns + 1)\n",
    "\n",
    "anual_volatility = log_returns.std()* np.sqrt(252)"
   ]
  },
  {
   "cell_type": "code",
   "execution_count": 3,
   "metadata": {},
   "outputs": [
    {
     "name": "stdout",
     "output_type": "stream",
     "text": [
      "[*********************100%***********************]  1 of 1 completed\n"
     ]
    }
   ],
   "source": [
    "K = 240\n",
    "\n",
    "S = yf.download(tickers='msft', period='1m').Close[0]\n",
    "\n",
    "r = 0.0361\n",
    "\n",
    "expiration_date = dt.datetime(2023,7,7)\n",
    "t_mat = expiration_date - datetime.now()\n",
    "T = t_mat.days/365\n",
    "\n",
    "sigma = anual_volatility"
   ]
  },
  {
   "cell_type": "markdown",
   "metadata": {},
   "source": [
    "#### 2. Option evaluation and risk assessment"
   ]
  },
  {
   "cell_type": "code",
   "execution_count": 6,
   "metadata": {},
   "outputs": [
    {
     "name": "stdout",
     "output_type": "stream",
     "text": [
      "option value: \t96.1584561739947\n",
      "Delta: \t\t0.9999867522861836\n",
      "Gamma: \t\t2.1493455101292865e-06\n",
      "Theta: \t\t-0.023686436959219053\n",
      "Vega: \t\t5.8127188678003106e-05\n",
      "Rho: \t\t0.20974211019340844\n"
     ]
    }
   ],
   "source": [
    "print(\"option value: \\t\" + str(bs_model.option_price(r,S,K,T,sigma,\"CALL\")))\n",
    "print(\"Delta: \\t\\t\" + str(bs_model.delta(r,S,K,T,sigma,\"CALL\")))\n",
    "print(\"Gamma: \\t\\t\" + str(bs_model.gamma(r,S,K,T,sigma,\"CALL\")))\n",
    "print(\"Theta: \\t\\t\"+ str(bs_model.theta(r,S,K,T,sigma,\"CALL\")))\n",
    "print(\"Vega: \\t\\t\" + str(bs_model.vega(r,S,K,T,sigma,\"CALL\")))\n",
    "print(\"Rho: \\t\\t\" + str(bs_model.rho(r,S,K,T,sigma,\"CALL\")))"
   ]
  },
  {
   "cell_type": "markdown",
   "metadata": {},
   "source": [
    "#### 3. Comparison with actual price"
   ]
  },
  {
   "cell_type": "code",
   "execution_count": 5,
   "metadata": {},
   "outputs": [
    {
     "data": {
      "text/html": [
       "<div>\n",
       "<style scoped>\n",
       "    .dataframe tbody tr th:only-of-type {\n",
       "        vertical-align: middle;\n",
       "    }\n",
       "\n",
       "    .dataframe tbody tr th {\n",
       "        vertical-align: top;\n",
       "    }\n",
       "\n",
       "    .dataframe thead th {\n",
       "        text-align: right;\n",
       "    }\n",
       "</style>\n",
       "<table border=\"1\" class=\"dataframe\">\n",
       "  <thead>\n",
       "    <tr style=\"text-align: right;\">\n",
       "      <th></th>\n",
       "      <th>Contract Name</th>\n",
       "      <th>Last Trade Date</th>\n",
       "      <th>Strike</th>\n",
       "      <th>Last Price</th>\n",
       "      <th>Bid</th>\n",
       "      <th>Ask</th>\n",
       "      <th>Change</th>\n",
       "      <th>% Change</th>\n",
       "      <th>Volume</th>\n",
       "      <th>Open Interest</th>\n",
       "      <th>Implied Volatility</th>\n",
       "    </tr>\n",
       "  </thead>\n",
       "  <tbody>\n",
       "    <tr>\n",
       "      <th>0</th>\n",
       "      <td>MSFT230707C00240000</td>\n",
       "      <td>2023-05-26 3:48PM EDT</td>\n",
       "      <td>240.0</td>\n",
       "      <td>94.20</td>\n",
       "      <td>95.80</td>\n",
       "      <td>97.35</td>\n",
       "      <td>0.00</td>\n",
       "      <td>-</td>\n",
       "      <td>1</td>\n",
       "      <td>1</td>\n",
       "      <td>66.33%</td>\n",
       "    </tr>\n",
       "    <tr>\n",
       "      <th>1</th>\n",
       "      <td>MSFT230707C00260000</td>\n",
       "      <td>2023-06-01 3:55PM EDT</td>\n",
       "      <td>260.0</td>\n",
       "      <td>74.08</td>\n",
       "      <td>75.85</td>\n",
       "      <td>77.70</td>\n",
       "      <td>0.00</td>\n",
       "      <td>-</td>\n",
       "      <td>3</td>\n",
       "      <td>10</td>\n",
       "      <td>54.81%</td>\n",
       "    </tr>\n",
       "    <tr>\n",
       "      <th>2</th>\n",
       "      <td>MSFT230707C00280000</td>\n",
       "      <td>2023-06-02 12:19PM EDT</td>\n",
       "      <td>280.0</td>\n",
       "      <td>55.45</td>\n",
       "      <td>55.95</td>\n",
       "      <td>58.85</td>\n",
       "      <td>3.06</td>\n",
       "      <td>+5.84%</td>\n",
       "      <td>1</td>\n",
       "      <td>2</td>\n",
       "      <td>53.80%</td>\n",
       "    </tr>\n",
       "    <tr>\n",
       "      <th>3</th>\n",
       "      <td>MSFT230707C00285000</td>\n",
       "      <td>2023-06-01 10:07AM EDT</td>\n",
       "      <td>285.0</td>\n",
       "      <td>45.10</td>\n",
       "      <td>51.35</td>\n",
       "      <td>53.70</td>\n",
       "      <td>0.00</td>\n",
       "      <td>-</td>\n",
       "      <td>6</td>\n",
       "      <td>18</td>\n",
       "      <td>49.29%</td>\n",
       "    </tr>\n",
       "    <tr>\n",
       "      <th>4</th>\n",
       "      <td>MSFT230707C00290000</td>\n",
       "      <td>2023-06-01 2:13PM EDT</td>\n",
       "      <td>290.0</td>\n",
       "      <td>43.85</td>\n",
       "      <td>46.65</td>\n",
       "      <td>48.30</td>\n",
       "      <td>0.00</td>\n",
       "      <td>-</td>\n",
       "      <td>3</td>\n",
       "      <td>4</td>\n",
       "      <td>43.67%</td>\n",
       "    </tr>\n",
       "  </tbody>\n",
       "</table>\n",
       "</div>"
      ],
      "text/plain": [
       "         Contract Name         Last Trade Date  Strike  Last Price    Bid   \n",
       "0  MSFT230707C00240000   2023-05-26 3:48PM EDT   240.0       94.20  95.80  \\\n",
       "1  MSFT230707C00260000   2023-06-01 3:55PM EDT   260.0       74.08  75.85   \n",
       "2  MSFT230707C00280000  2023-06-02 12:19PM EDT   280.0       55.45  55.95   \n",
       "3  MSFT230707C00285000  2023-06-01 10:07AM EDT   285.0       45.10  51.35   \n",
       "4  MSFT230707C00290000   2023-06-01 2:13PM EDT   290.0       43.85  46.65   \n",
       "\n",
       "     Ask  Change % Change  Volume  Open Interest Implied Volatility  \n",
       "0  97.35    0.00        -       1              1             66.33%  \n",
       "1  77.70    0.00        -       3             10             54.81%  \n",
       "2  58.85    3.06   +5.84%       1              2             53.80%  \n",
       "3  53.70    0.00        -       6             18             49.29%  \n",
       "4  48.30    0.00        -       3              4             43.67%  "
      ]
     },
     "execution_count": 5,
     "metadata": {},
     "output_type": "execute_result"
    }
   ],
   "source": [
    "options.get_options_chain(\"msft\", expiration_date)[\"calls\"].head()"
   ]
  }
 ],
 "metadata": {
  "kernelspec": {
   "display_name": "Python 3.11.3 64-bit",
   "language": "python",
   "name": "python3"
  },
  "language_info": {
   "codemirror_mode": {
    "name": "ipython",
    "version": 3
   },
   "file_extension": ".py",
   "mimetype": "text/x-python",
   "name": "python",
   "nbconvert_exporter": "python",
   "pygments_lexer": "ipython3",
   "version": "3.11.3"
  },
  "orig_nbformat": 4,
  "vscode": {
   "interpreter": {
    "hash": "b0fa6594d8f4cbf19f97940f81e996739fb7646882a419484c72d19e05852a7e"
   }
  }
 },
 "nbformat": 4,
 "nbformat_minor": 2
}
