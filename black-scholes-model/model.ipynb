{
 "cells": [
  {
   "cell_type": "code",
   "execution_count": 7,
   "metadata": {},
   "outputs": [],
   "source": [
    "import numpy as np\n",
    "from scipy.stats import norm\n",
    "from py_vollib.black_scholes import black_scholes as bs \n",
    "from py_vollib.black_scholes.greeks.analytical import delta, gamma, vega, rho, theta"
   ]
  },
  {
   "cell_type": "markdown",
   "metadata": {},
   "source": [
    "# Black Scholes Formula\n",
    "\n",
    "$C = \\Phi(d_1)S_t - \\Phi(d_2)Ke^{-rt}$\n",
    "\n",
    "\n",
    "$P = \\Phi(-d_2)Ke^{-rt} - \\Phi(-d_1)S_t$\n",
    "\n",
    "$d_1 = \\frac{ln(\\frac{S_t}{K}) + (r + \\frac{\\sigma^2}{2})t)}{\\sigma \\sqrt{t}}$\n",
    "\n",
    "$d_2 = d_1 - \\sigma \\sqrt{t}$"
   ]
  },
  {
   "cell_type": "code",
   "execution_count": 10,
   "metadata": {},
   "outputs": [],
   "source": [
    "def black_scholes(r, S, K, T, sigma, type):\n",
    "\n",
    "    d1 = (np.log(S/K) + (r+ sigma**2/2)*T)/(sigma*np.sqrt(T))\n",
    "\n",
    "    d2 = d1 - sigma*np.sqrt(T)\n",
    "\n",
    "    if type == \"CALL\":\n",
    "        price = S*norm.cdf(d1,0,1) - K*np.exp(-r*T)*norm.cdf(d2,0,1)\n",
    "    elif type == \"PUT\":\n",
    "        price = K*np.exp(-r*T)*norm.cdf(-d2,0,1) - S*norm.cdf(-d1, 0, 1)\n",
    "\n",
    "    return price\n"
   ]
  },
  {
   "cell_type": "code",
   "execution_count": 14,
   "metadata": {},
   "outputs": [
    {
     "name": "stdout",
     "output_type": "stream",
     "text": [
      "our call option price: 0.5132843798399405\n",
      "their call option price: 0.5132843798399411\n",
      "our put option price: 10.251133491653508\n",
      "their put option price: 10.2511334916535\n"
     ]
    }
   ],
   "source": [
    "# confirm our model\n",
    "\n",
    "r = 0.01    #risk free rate\n",
    "S = 30 \n",
    "K = 40\n",
    "T = 240/365\n",
    "sigma = 0.3\n",
    "type = \"CALL\"\n",
    "print(\"our call option price: \" + str(black_scholes(r, S, K, T, sigma, type)))\n",
    "print(\"correct call option price: \" + str(bs(\"c\", S, K, T, r, sigma)))\n",
    "\n",
    "\n",
    "type = \"PUT\"\n",
    "print(\"our put option price: \" + str(black_scholes(r, S, K, T, sigma, type)))\n",
    "print(\"correct put option price: \" + str(bs(\"p\", S, K, T, r, sigma)))"
   ]
  },
  {
   "cell_type": "markdown",
   "metadata": {},
   "source": [
    "# Delta $\\Delta$\n",
    "Delta measures the rate of change of our option value $V$ with respect to the underlying asset: $\\Delta = \\frac{\\partial V}{\\partial S}$\n",
    "\n",
    "\n",
    "\n",
    "$\\Delta_{Call}= \\frac{\\partial (\\Phi(d_1)S - \\Phi(d_2)Ke^{-rt})}{\\partial S}$\n",
    "\n",
    "$= \\Phi (d_1) + S \\phi(d_1) \\frac{\\partial d_1}{\\partial S} - e^{-RT}K\\phi(d_2) \\frac{\\partial d_2}{\\partial S}$\n",
    "\n",
    "$= \\Phi(d_1) + S \\phi(d_1)\\frac{\\partial d_1}{\\partial S} - e^{-rT}K\\phi(d_2) \\frac{\\partial d_2}{\\partial S}$\n",
    "\n",
    "$= \\Phi(d_1) + S \\phi(d_1) \\frac{1}{S \\sigma \\sqrt{T}} - e^{-rT}K\\phi(d_2) \\frac{1}{S \\sigma \\sqrt{T}}$\n",
    "\n",
    "$= \\Phi(d_1) + \\frac{\\phi (d_1)}{\\sigma \\sqrt{T}}(1 - e^{(d_1^2 - d_2^2)/2} \\frac{K}{S e^{rT}})$\n",
    "\n",
    "$= \\Phi(d_1) + \\frac{\\phi (d_1)}{\\sigma \\sqrt{T}}(1 - \\frac{S e^{rT}}{K} \\frac{K}{S e^{rT}})$\n",
    "\n",
    "$= \\Phi(d_1)$\n",
    "\n",
    "\n",
    "\n",
    "\n",
    "Put-Call-Parity:\n",
    "\n",
    "$C + Ke^{-rT} = S + P$ \n",
    "\n",
    "$\\Leftrightarrow P = C  + Ke^{-rT} - S$\n",
    "\n",
    "$\\Leftrightarrow \\frac{\\partial P}{\\partial S} = \\frac{\\partial ( C  + Ke^{-rT} - S)}{\\partial S}$\n",
    "\n",
    "$\\Leftrightarrow \\Delta_{Put} = \\Delta_{Call} - 1 = \\Phi(d_1) - 1 = - \\Phi(-d_1)$\n",
    "\n"
   ]
  },
  {
   "cell_type": "code",
   "execution_count": 22,
   "metadata": {},
   "outputs": [
    {
     "name": "stdout",
     "output_type": "stream",
     "text": [
      "our call option delta: 0.15058613984880015\n",
      "correct call option delta: 0.15058613984880015\n",
      "our put option delta: -0.8494138601511998\n",
      "correct put option delta: -0.8494138601511998\n"
     ]
    }
   ],
   "source": [
    "def delta_black_scholes(r, S, K, T, sigma, type):\n",
    "\n",
    "    d1 = (np.log(S/K) + (r+ sigma**2/2)*T)/(sigma*np.sqrt(T))\n",
    "\n",
    "    if type == \"CALL\":\n",
    "        price = norm.cdf(d1,0,1)\n",
    "    elif type == \"PUT\":\n",
    "        price = -norm.cdf(-d1,0,1)\n",
    "\n",
    "    return price\n",
    "\n",
    "\n",
    "type = \"CALL\"\n",
    "print(\"our call option delta: \" + str(delta_black_scholes(r, S, K, T, sigma, type)))\n",
    "print(\"correct call option delta: \" + str(delta(\"c\", S, K, T, r, sigma)))\n",
    "\n",
    "\n",
    "type = \"PUT\"\n",
    "print(\"our put option delta: \" + str(delta_black_scholes(r, S, K, T, sigma, type)))\n",
    "print(\"correct put option delta: \" + str(delta(\"p\", S, K, T, r, sigma)))"
   ]
  },
  {
   "cell_type": "markdown",
   "metadata": {},
   "source": [
    "# Gamma $\\Gamma$\n",
    "\n",
    "Describes the rate of change between the delta $\\Delta$ of an option and the price of the underlying. A high gamma indicates a high change in the delta when the price of the underlying changes. $\\Gamma = \\frac{\\partial \\Delta}{\\partial S}$\n",
    "\n",
    "\n",
    "$\\Gamma_{Call} = \\frac{\\partial (\\Phi(d_1))}{\\partial S}$\n",
    "\n",
    "$= \\phi(d_1) \\cdot \\frac{\\partial d_1}{\\partial S}$\n",
    "\n",
    "$=  \\frac{\\phi(d_1)}{S \\sigma \\sqrt{T}}$\n",
    "\n",
    "$\\Gamma_{Put} = \\frac{\\partial ( - \\Phi( - d_1))}{\\partial S}$\n",
    "\n",
    "$= -\\phi(d_1) \\cdot -\\frac{\\partial d_1}{\\partial S}$\n",
    "\n",
    "$=  \\frac{\\phi(d_1)}{S \\sigma \\sqrt{T}}$"
   ]
  },
  {
   "cell_type": "code",
   "execution_count": 25,
   "metadata": {},
   "outputs": [
    {
     "name": "stdout",
     "output_type": "stream",
     "text": [
      "our call option gamma: 0.03203161102008452\n",
      "correct call option gamma: 0.03203161102008452\n",
      "our put option gamma: 0.03203161102008452\n",
      "correct put option gamma: 0.03203161102008452\n"
     ]
    }
   ],
   "source": [
    "def gamma_black_scholes(r, S, K, T, sigma, type):\n",
    "\n",
    "    d1 = (np.log(S/K) + (r+ sigma**2/2)*T)/(sigma*np.sqrt(T))\n",
    "\n",
    "    if type == \"CALL\":\n",
    "        return norm.pdf(d1,0,1)/(S * sigma * np.sqrt(T))\n",
    "    elif type == \"PUT\":\n",
    "        return norm.pdf(d1,0,1)/(S * sigma * np.sqrt(T))\n",
    "\n",
    "\n",
    "\n",
    "type = \"CALL\"\n",
    "print(\"our call option gamma: \" + str(gamma_black_scholes(r, S, K, T, sigma, type)))\n",
    "print(\"correct call option gamma: \" + str(gamma(\"c\", S, K, T, r, sigma)))\n",
    "\n",
    "\n",
    "type = \"PUT\"\n",
    "print(\"our put option gamma: \" + str(gamma_black_scholes(r, S, K, T, sigma, type)))\n",
    "print(\"correct put option gamma: \" + str(gamma(\"p\", S, K, T, r, sigma)))"
   ]
  },
  {
   "cell_type": "markdown",
   "metadata": {},
   "source": [
    "# Vega $\\Lambda$\n",
    "\n",
    "Describes the rate of change between the option value and volatility. So $\\Lambda = \\frac{\\partial V}{\\partial \\sigma}$\n",
    "\n",
    "$\\Lambda_{Call}= \\frac{\\partial (\\Phi(d_1)S - \\Phi(d_2)Ke^{-rt})}{\\partial \\sigma}$\n",
    "\n",
    "$= S\\phi(d_1) \\frac{\\partial d_1}{\\partial \\sigma} - Ke^{-rt} \\phi(d_2) \\frac{\\partial d_2}{\\partial \\sigma}$\n",
    "\n",
    "$= S\\phi(d_1) \\frac{\\partial d_1}{\\partial \\sigma} - Ke^{-rt} \\phi(d_2) \\frac{\\partial d_2}{\\partial \\sigma}$\n",
    "\n",
    "$=S \\phi (d_1) \\sqrt{t}$\n",
    "\n",
    "$\\Lambda_{Call} = \\Lambda_{Put}$\n",
    "\n",
    "important note: This formula calculates the change in value for a 100% change in the volatility. It is much more practical to have the change in value for a 1% change in volatility which is why I use $\\Lambda' = 0.01 \\cdot \\Lambda$"
   ]
  },
  {
   "cell_type": "code",
   "execution_count": 32,
   "metadata": {},
   "outputs": [
    {
     "name": "stdout",
     "output_type": "stream",
     "text": [
      "our call option vega: 0.056867079290451414\n",
      "correct call option vega: 0.05686707929045143\n",
      "our put option vega: 0.056867079290451414\n",
      "correct put option vega: 0.05686707929045143\n"
     ]
    }
   ],
   "source": [
    "def vega_black_scholes(r, S, K, T, sigma, type):\n",
    "\n",
    "    d1 = (np.log(S/K) + (r+ sigma**2/2)*T)/(sigma*np.sqrt(T))\n",
    "\n",
    "    if type == \"CALL\" or type == \"PUT\":\n",
    "        return 0.01 * S * norm.pdf(d1,0,1) * np.sqrt(T)\n",
    "\n",
    "type = \"CALL\"\n",
    "print(\"our call option vega: \" + str(vega_black_scholes(r, S, K, T, sigma, type)))\n",
    "print(\"correct call option vega: \" + str(vega(\"c\", S, K, T, r, sigma)))\n",
    "\n",
    "\n",
    "type = \"PUT\"\n",
    "print(\"our put option vega: \" + str(vega_black_scholes(r, S, K, T, sigma, type)))\n",
    "print(\"correct put option vega: \" + str(vega(\"p\", S, K, T, r, sigma)))"
   ]
  },
  {
   "cell_type": "markdown",
   "metadata": {},
   "source": [
    "# Theta $\\Theta$\n",
    "\n",
    "Theta measures the rate at which the value of an option decreases due to the passage of time $\\Theta = \\frac{\\partial V}{\\partial t}$\n",
    "\n",
    "$\\Theta_{Call} = \\frac{\\partial (\\Phi(d_1)S - \\Phi(d_2)Ke^{-rt})}{\\partial t}$\n",
    "\n",
    "$= S \\phi(d_1) \\frac{\\partial d_1}{\\partial t} + rKe^{-rT}\\Phi(d_2) -\\phi(d_2) \\frac{\\partial d_2}{\\partial t}Ke^{-rT}$\n",
    "\n",
    "\n",
    "$= -\\frac{S \\phi(d_1)\\sigma}{2 \\sqrt{t}} - rK e^{-rT} \\Phi(d_2)$\n",
    "\n",
    "\n",
    "$\\Theta_{Call} = -\\frac{S \\phi(d_1)\\sigma}{2 \\sqrt{t}} + rK e^{-rT} \\Phi(-d_2)$\n",
    "\n",
    "Important note: It is more meaningful to show the change in value for a day and not for a year. So I use $\\Theta' = \\frac{1}{365} \\cdot \\Theta$"
   ]
  },
  {
   "cell_type": "code",
   "execution_count": 37,
   "metadata": {},
   "outputs": [
    {
     "name": "stdout",
     "output_type": "stream",
     "text": [
      "our call option theta: -0.003663899299916886\n",
      "correct call option theta: -0.003663899299916886\n",
      "our put option theta: -0.0025751911050726785\n",
      "correct put option theta: -0.0025751911050726785\n"
     ]
    }
   ],
   "source": [
    "def theta_black_scholes(r, S, K, T, sigma, type):\n",
    "\n",
    "    d1 = (np.log(S/K) + (r+ sigma**2/2)*T)/(sigma*np.sqrt(T))\n",
    "    d2 = d1 - sigma*np.sqrt(T)\n",
    "\n",
    "    if type == \"CALL\":\n",
    "        return ((-S*norm.pdf(d1,0,1)*sigma)/(2*np.sqrt(T)) - r*K*np.exp(-r*T)*norm.cdf(d2) )/365\n",
    "    elif type == \"PUT\":\n",
    "        return ((-S*norm.pdf(d1,0,1)*sigma)/(2*np.sqrt(T)) + r*K*np.exp(-r*T)*norm.cdf(-d2) )/365\n",
    "\n",
    "type = \"CALL\"\n",
    "print(\"our call option theta: \" + str(theta_black_scholes(r, S, K, T, sigma, type)))\n",
    "print(\"correct call option theta: \" + str(theta(\"c\", S, K, T, r, sigma)))\n",
    "\n",
    "\n",
    "type = \"PUT\"\n",
    "print(\"our put option theta: \" + str(theta_black_scholes(r, S, K, T, sigma, type)))\n",
    "print(\"correct put option theta: \" + str(theta(\"p\", S, K, T, r, sigma)))"
   ]
  },
  {
   "cell_type": "markdown",
   "metadata": {},
   "source": [
    "# Rho $\\rho$\n",
    "\n",
    "measures the sensitivity to a change in interest rates: $\\rho = \\frac{\\partial V}{\\partial r}$\n",
    "\n",
    "$\\rho_{Call}= \\frac{\\partial (\\Phi(d_1)S - \\Phi(d_2)Ke^{-rt})}{\\partial r}$\n",
    "\n",
    "$= Kte^{-rT}\\Phi(d2)$\n",
    "\n",
    "$\\rho_{Put}= -Kte^{-rT}\\Phi(d2)$\n",
    "\n",
    "Important note: It is more meaningful to report the change in value for a 1% change in interest rate $r$. So I use $\\rho' = 0.01 \\cdot \\rho$"
   ]
  },
  {
   "cell_type": "code",
   "execution_count": 34,
   "metadata": {},
   "outputs": [
    {
     "name": "stdout",
     "output_type": "stream",
     "text": [
      "our call option rho: 0.026329642623281514\n",
      "correct call option rho: 0.026329642623281493\n",
      "our put option rho: -0.23496032413932819\n",
      "correct put option rho: -0.23496032413932816\n"
     ]
    }
   ],
   "source": [
    "def rho_black_scholes(r, S, K, T, sigma, type):\n",
    "\n",
    "    d1 = (np.log(S/K) + (r+ sigma**2/2)*T)/(sigma*np.sqrt(T))\n",
    "    d2 = d1 - sigma*np.sqrt(T)\n",
    "\n",
    "    if type == \"CALL\":\n",
    "        return 0.01*K*T*np.exp(-r*T)*norm.cdf(d2)\n",
    "    elif type == \"PUT\":\n",
    "        return 0.01*-K*T*np.exp(-r*T)*norm.cdf(-d2)\n",
    "\n",
    "type = \"CALL\"\n",
    "print(\"our call option rho: \" + str(rho_black_scholes(r, S, K, T, sigma, type)))\n",
    "print(\"correct call option rho: \" + str(rho(\"c\", S, K, T, r, sigma)))\n",
    "\n",
    "\n",
    "type = \"PUT\"\n",
    "print(\"our put option rho: \" + str(rho_black_scholes(r, S, K, T, sigma, type)))\n",
    "print(\"correct put option rho: \" + str(rho(\"p\", S, K, T, r, sigma)))"
   ]
  }
 ],
 "metadata": {
  "kernelspec": {
   "display_name": "Python 3.11.3 64-bit",
   "language": "python",
   "name": "python3"
  },
  "language_info": {
   "codemirror_mode": {
    "name": "ipython",
    "version": 3
   },
   "file_extension": ".py",
   "mimetype": "text/x-python",
   "name": "python",
   "nbconvert_exporter": "python",
   "pygments_lexer": "ipython3",
   "version": "3.11.3"
  },
  "orig_nbformat": 4,
  "vscode": {
   "interpreter": {
    "hash": "b0fa6594d8f4cbf19f97940f81e996739fb7646882a419484c72d19e05852a7e"
   }
  }
 },
 "nbformat": 4,
 "nbformat_minor": 2
}
